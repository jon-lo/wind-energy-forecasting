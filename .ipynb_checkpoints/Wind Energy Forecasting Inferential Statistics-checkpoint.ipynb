{
 "cells": [
  {
   "cell_type": "markdown",
   "metadata": {},
   "source": [
    "# Wind Energy Forecasting: Inferential Statistics\n",
    "The dataset chosen for this exercise is provided by Institute of Electrical and Electronics Engineers (IEEE), Power & Energy Society, and retrieved through the Kaggle database (https://www.kaggle.com/c/GEF2012-wind-forecasting).  The dataset is a time series dataset with historical power generation, wind speeds and wind directions, for the time period from July 2009 to December 2010. "
   ]
  },
  {
   "cell_type": "markdown",
   "metadata": {},
   "source": [
    "#### Importing Packages and Defining Custom Functions for Data Cleaning"
   ]
  },
  {
   "cell_type": "code",
   "execution_count": 149,
   "metadata": {
    "collapsed": true
   },
   "outputs": [],
   "source": [
    "# Import packages for data visualization\n",
    "import pandas as pd\n",
    "import numpy as np\n",
    "import matplotlib.pyplot as plt\n",
    "import seaborn as sns"
   ]
  },
  {
   "cell_type": "code",
   "execution_count": 150,
   "metadata": {
    "collapsed": true
   },
   "outputs": [],
   "source": [
    "# Custom Functions\n",
    "def convert_to_iso(date_col):\n",
    "    \"\"\"\n",
    "    Convert a date, originally in format YYYYMMDDHH,\n",
    "    to ISO 8601 format (https://en.wikipedia.org/wiki/ISO_8601)\n",
    "    \n",
    "    Input: an array of DateTimes in YYYYMMDD format\n",
    "    Output: an array of DateTimes in ISO 8601 format\n",
    "    \"\"\"\n",
    "    date_col = date_col.astype(str)\n",
    "    \n",
    "    # year = YYYY\n",
    "    year = date_col.str[0:4]\n",
    "    # month = MM\n",
    "    month = date_col.str[4:6]\n",
    "    # day = DD\n",
    "    day = date_col.str[6:8]\n",
    "    # hour = HH\n",
    "    hour = date_col.str[8:10]\n",
    "    date_iso8601 = pd.to_datetime(year + '-' + month + '-' + day + 'T' + hour + ':00:00')\n",
    "    \n",
    "    return date_iso8601\n",
    "\n",
    "def add_forecast_cat(wfn):\n",
    "    \"\"\"\n",
    "    Add a forecast category column to the Wind Farm data\n",
    "    Forecast Category 1:  1-12 hour forecasts\n",
    "    Forecast Category 2: 13-24 hour forecasts\n",
    "    Forecast Category 3: 25-36 hour forecasts\n",
    "    Forecast Category 4: 37-48 hour forecasts\n",
    "    \n",
    "    Input: A DataFrame of Wind Farm data with column 'hors' containing hour-ahead forecasts \n",
    "    Output: The same DataFrame with an added column, 'forecast_cat' containing the forecast category\n",
    "    \"\"\"\n",
    "    \n",
    "    wfn['forecast_cat'] = None\n",
    "    wfn.loc[ (wfn['hors'] >= 1) & (wfn['hors'] <= 12), 'forecast_cat'] = 1\n",
    "    wfn.loc[ (wfn['hors'] >= 13) & (wfn['hors'] <= 24), 'forecast_cat'] = 2\n",
    "    wfn.loc[ (wfn['hors'] >= 25) & (wfn['hors'] <= 36), 'forecast_cat'] = 3\n",
    "    wfn.loc[ (wfn['hors'] >= 37) & (wfn['hors'] <= 48), 'forecast_cat'] = 4\n",
    "\n",
    "    return wfn\n",
    "\n",
    "def wfn_by_fc(wfn, forecast_cat):\n",
    "    \"\"\"\n",
    "    Take a windfarm DataFrame and return a boolean sliced \n",
    "    version including data for a given forecast category\n",
    "    \n",
    "    Input: A DataFrame of Wind Farm data\n",
    "    Output: The same DataFrame, but including only data for the requested forecast category\n",
    "    \"\"\"\n",
    "\n",
    "    wfn = wfn.loc[(wfn['forecast_cat'] == forecast_cat)] # row slice\n",
    "    return wfn"
   ]
  },
  {
   "cell_type": "markdown",
   "metadata": {},
   "source": [
    "#### Importing Wind Speed and Direction Data"
   ]
  },
  {
   "cell_type": "code",
   "execution_count": 151,
   "metadata": {
    "collapsed": true
   },
   "outputs": [],
   "source": [
    "# Import wind speed and wind direction data for each wind farm, \"wind farm data\"\n",
    "wf_dict = {'wf1': pd.read_csv('windforecasts_wf1.csv'), # Wind Farm 1\n",
    "           'wf2': pd.read_csv('windforecasts_wf2.csv'), # Wind Farm 2\n",
    "           'wf3': pd.read_csv('windforecasts_wf3.csv'), # Wind Farm 3\n",
    "           'wf4': pd.read_csv('windforecasts_wf4.csv'), # Wind Farm 4\n",
    "           'wf5': pd.read_csv('windforecasts_wf5.csv'), # Wind Farm 5\n",
    "           'wf6': pd.read_csv('windforecasts_wf6.csv'), # Wind Farm 6\n",
    "           'wf7': pd.read_csv('windforecasts_wf7.csv')} # Wind Farm 7"
   ]
  },
  {
   "cell_type": "markdown",
   "metadata": {},
   "source": [
    "#### Importing Power Data\n",
    "\n",
    "Note: we include only 2009-2010 data because these are the years for which there is complete data (i.e. wind speed, wind direction, and wind power data for every DateTime)."
   ]
  },
  {
   "cell_type": "code",
   "execution_count": 152,
   "metadata": {
    "collapsed": true
   },
   "outputs": [],
   "source": [
    "# Import wind power data\n",
    "power = pd.read_csv('train.csv')\n",
    "\n",
    "# Convert DateTimes to ISO 8601 format for standardization\n",
    "power['date'] = convert_to_iso(power['date']) \n",
    "\n",
    "# Include only 2009-2010 data for wind power data\n",
    "power = power.loc[ (power['date'] >= '2009-07-01') & \n",
    "                   (power['date'] <=  '2010-12-31')]\n",
    "\n",
    "# Set index for wind power data\n",
    "power.set_index('date', inplace=True)   "
   ]
  },
  {
   "cell_type": "code",
   "execution_count": 153,
   "metadata": {
    "collapsed": false
   },
   "outputs": [],
   "source": [
    "# Dictionary with wind farm data as keys and wind power data as values\n",
    "wp_lookup = {'wf1':'wp1',\n",
    "             'wf2':'wp2',\n",
    "             'wf3':'wp3',\n",
    "             'wf4':'wp4',\n",
    "             'wf5':'wp5', \n",
    "             'wf6':'wp6',\n",
    "             'wf7':'wp7'}"
   ]
  },
  {
   "cell_type": "markdown",
   "metadata": {},
   "source": [
    "#### Cleaning Wind Speed & Direction Data, Merging with Wind Power Data\n",
    "Note: we include only 2009-2010 data because these are the years for which there is complete data (i.e. wind speed, wind direction, and wind power data for every DateTime)."
   ]
  },
  {
   "cell_type": "code",
   "execution_count": 154,
   "metadata": {
    "collapsed": false
   },
   "outputs": [],
   "source": [
    "for key, _ in wf_dict.items():\n",
    "    \n",
    "    # Convert date-times to ISO 8601 format for standardization\n",
    "    wf_dict[key]['date'] = convert_to_iso(wf_dict[key]['date'])\n",
    "    # Initialize mod_date column\n",
    "    wf_dict[key]['mod_date'] = (wf_dict[key]['date'] + \n",
    "                                pd.to_timedelta(arg=wf_dict[key]['hors'],unit='h'))\n",
    "    # Initialize forecast_cat column\n",
    "    wf_dict[key] = add_forecast_cat(wf_dict[key])\n",
    "\n",
    "    # Include only 2009-2010 data for wind speed/direction data\n",
    "    wf_dict[key] = wf_dict[key].loc[(wf_dict[key]['mod_date'] >= '2009-07-01') & \n",
    "                                    (wf_dict[key]['mod_date'] <= '2010-12-31')]\n",
    "    # Set Index column\n",
    "    wf_dict[key].set_index('mod_date',inplace=True)\n",
    "    \n",
    "    # Merge wind speed/direction data with wind power data\n",
    "    wf_dict[key] = wf_dict[key].merge(power[[wp_lookup[key]]], \n",
    "                                      how='left',\n",
    "                                      left_index=True,       \n",
    "                                      right_index=True)"
   ]
  },
  {
   "cell_type": "code",
   "execution_count": 155,
   "metadata": {
    "collapsed": false,
    "scrolled": true
   },
   "outputs": [
    {
     "name": "stdout",
     "output_type": "stream",
     "text": [
      "                                   date  hors     u     v    ws      wd  \\\n",
      "2009-07-01 01:00:00 2009-07-01 00:00:00     1  2.34 -0.79  2.47  108.68   \n",
      "2009-07-01 02:00:00 2009-07-01 00:00:00     2  2.18 -0.99  2.40  114.31   \n",
      "2009-07-01 03:00:00 2009-07-01 00:00:00     3  2.20 -1.21  2.51  118.71   \n",
      "2009-07-01 04:00:00 2009-07-01 00:00:00     4  2.35 -1.40  2.73  120.86   \n",
      "2009-07-01 05:00:00 2009-07-01 00:00:00     5  2.53 -1.47  2.93  120.13   \n",
      "2009-07-01 06:00:00 2009-07-01 00:00:00     6  2.66 -1.29  2.96  115.79   \n",
      "2009-07-01 07:00:00 2009-07-01 00:00:00     7  2.69 -0.81  2.81  106.71   \n",
      "2009-07-01 08:00:00 2009-07-01 00:00:00     8  2.72 -0.26  2.73   95.39   \n",
      "2009-07-01 09:00:00 2009-07-01 00:00:00     9  2.87  0.08  2.87   88.50   \n",
      "2009-07-01 10:00:00 2009-07-01 00:00:00    10  3.23 -0.01  3.23   90.19   \n",
      "2009-07-01 11:00:00 2009-07-01 00:00:00    11  3.65 -0.33  3.66   95.15   \n",
      "2009-07-01 12:00:00 2009-07-01 00:00:00    12  3.89 -0.60  3.94   98.71   \n",
      "2009-07-01 13:00:00 2009-07-01 00:00:00    13  3.82 -0.59  3.86   98.85   \n",
      "2009-07-01 13:00:00 2009-07-01 12:00:00     1  2.77 -0.65  2.85  103.17   \n",
      "2009-07-01 14:00:00 2009-07-01 00:00:00    14  3.54 -0.35  3.56   95.62   \n",
      "\n",
      "                    forecast_cat    wp1  \n",
      "2009-07-01 01:00:00            1  0.085  \n",
      "2009-07-01 02:00:00            1  0.020  \n",
      "2009-07-01 03:00:00            1  0.060  \n",
      "2009-07-01 04:00:00            1  0.045  \n",
      "2009-07-01 05:00:00            1  0.035  \n",
      "2009-07-01 06:00:00            1  0.005  \n",
      "2009-07-01 07:00:00            1  0.000  \n",
      "2009-07-01 08:00:00            1  0.000  \n",
      "2009-07-01 09:00:00            1  0.010  \n",
      "2009-07-01 10:00:00            1  0.025  \n",
      "2009-07-01 11:00:00            1  0.030  \n",
      "2009-07-01 12:00:00            1  0.010  \n",
      "2009-07-01 13:00:00            2  0.000  \n",
      "2009-07-01 13:00:00            1  0.000  \n",
      "2009-07-01 14:00:00            2  0.010  \n"
     ]
    }
   ],
   "source": [
    "# Explore wind farm data\n",
    "print(wf_dict['wf1'].head(15))"
   ]
  },
  {
   "cell_type": "markdown",
   "metadata": {},
   "source": [
    "NOTE: All data is unitless.\n",
    "**Description:** Index is dates in ISO-8601 DateTime format. 'date' column data is unformatted DateTime data. 'hors' column data is unformatted hour data, representing the number of hours-ahead being forecasted at the corresponding DateTime. 'u' is magnitude of x-axis wind speed vector. 'v' is magnitude of y-axis wind speed vector. 'ws' is magnitude of wind speed. 'wd' is angle of wind direction. 'forecast_cat' is forecast category, ranging from 1-4.\n",
    "'wp(n)' column represents wind power data where n=1...7 represent each of the seven wind farms."
   ]
  },
  {
   "cell_type": "markdown",
   "metadata": {},
   "source": [
    "### Inferential Statistics\n",
    "\n",
    "There are four forecast categories-- Forecast Category 1: 1-12 hours ahead. Forecast Category 2: 13-24 hours ahead. Forecast Category 3: 25-36 hours ahead. Forecast Category 4: 37-48 hours ahead.\n",
    "\n",
    "We are interested to see if the wind speeds of one forecast category different from the wind speeds of any other forecast category. \n",
    "\n",
    "As an example, we could take a look at Wind Farm 1, and compare the mean wind speed of Forecast Category 1 ($\\mu$<sub>1</sub>) to the mean wind speed of Forecast Category 2-4 ($\\mu$<sub>234</sub>). The null hypothesis in this case would be that the mean wind speed of Forecast Category 1 are equal to the mean wind speed of Forecast Category 2-4: \n",
    "\n",
    "$\\mu$<sub>1</sub> = $\\mu$<sub>234</sub>\n",
    "\n",
    "The alternate hypothesis would then be that the mean wind speed of Forecast Category 1 is not equal to the mean wind speed of the other Forecast Categories: \n",
    "\n",
    "$\\mu$<sub>1</sub> $\\neq$ $\\mu$<sub>234</sub>"
   ]
  },
  {
   "cell_type": "code",
   "execution_count": 156,
   "metadata": {
    "collapsed": false
   },
   "outputs": [],
   "source": [
    "# Subset Wind Farm 1 wind speeds into forecast categories\n",
    "fc1 = wfn_by_fc(wf_dict['wf1'], 1)['ws']\n",
    "fc2 = wfn_by_fc(wf_dict['wf1'], 2)['ws']\n",
    "fc3 = wfn_by_fc(wf_dict['wf1'], 3)['ws']\n",
    "fc4 = wfn_by_fc(wf_dict['wf1'], 4)['ws']\n",
    "fc_all = ((fc1.append(fc2)).append(fc3)).append(fc4)"
   ]
  },
  {
   "cell_type": "code",
   "execution_count": 157,
   "metadata": {
    "collapsed": false
   },
   "outputs": [
    {
     "name": "stdout",
     "output_type": "stream",
     "text": [
      "Null Hypothesis: m1 = m234\n",
      "p-value, bootstrap approach: {:5f} 0.0\n",
      "The 95% confidence interval is from  -0.038797852705  to  0.038106618047 .\n",
      "The margin of error, as computed from the bootstrap replicates, is:  0.0391359191669\n"
     ]
    }
   ],
   "source": [
    "# Combine wind speeds of forecast categories 2, 3, and 4\n",
    "fc234 = (fc2.append(fc3)).append(fc4)\n",
    "\n",
    "# Compute mean wind speed of Forecast Category 1: m1\n",
    "m1 = np.mean(fc1)\n",
    "# Compute mean wind speed of Forecast Category 2, 3, 4: m234\n",
    "m234 = np.mean(fc234)\n",
    "# Compute mean wind speed of all Forecast Categories: m_all\n",
    "m_all = np.mean(fc_all)\n",
    "\n",
    "# Compute Empirical Difference in Mean Wind Speeds: empirical_diff_means\n",
    "empirical_diff_means = m1 - m234\n",
    "\n",
    "# Generate Shifted Arrays\n",
    "fc1_shifted = fc1 - m1 + m_all\n",
    "fc234_shifted = fc234 - m234 + m_all\n",
    "\n",
    "# Compute 1000 bootstrap replicates from shifted arrays\n",
    "size = 1000\n",
    "bs_replicates_1 = np.empty(size)\n",
    "bs_replicates_234 = np.empty(size)\n",
    "for i in range(size):\n",
    "    bs_replicates_1[i] = np.mean(np.random.choice(fc1_shifted,len(fc1_shifted)))\n",
    "    bs_replicates_234[i] = np.mean(np.random.choice(fc234_shifted,len(fc234_shifted)))\n",
    "\n",
    "# Compute difference of means: bs_replicates\n",
    "bs_replicates = bs_replicates_1 - bs_replicates_234\n",
    "\n",
    "# Compute and print p-value: p\n",
    "p = np.sum(bs_replicates == empirical_diff_means) / size\n",
    "print('Null Hypothesis: m1 = m234')\n",
    "print('p-value, bootstrap approach: {:5f}', p)\n",
    "\n",
    "# Compute the 95% confidence interval, bootstrap approach\n",
    "conf_int = np.percentile(bs_replicates, [2.5, 97.5])\n",
    "\n",
    "# Compute Margin of Error, Bootstrap Replicate Approach\n",
    "margin_of_error = 1.96 * bs_replicates.std()\n",
    "print('The 95% confidence interval is from ', conf_int[0], ' to ', conf_int[1], '.')\n",
    "print('The margin of error, as computed from the bootstrap replicates, is: ', margin_of_error)"
   ]
  },
  {
   "cell_type": "markdown",
   "metadata": {},
   "source": [
    "##### Comparing Forecast Category 2 with Forecast Category 1, 3, 4"
   ]
  },
  {
   "cell_type": "markdown",
   "metadata": {},
   "source": [
    "Similarly, we could also compare the mean wind speed of Forecast Category 2, $\\mu$<sub>2</sub>, to the remaining Forecast Categories, $\\mu$<sub>134</sub>.\n",
    "\n",
    "Null Hypothesis: \n",
    "\n",
    "$\\mu$<sub>2</sub> = $\\mu$<sub>134</sub>\n",
    "\n",
    "The alternate hypothesis would then be that the mean wind speed of Forecast Category 2 is not equal to the mean wind speed of the other Forecast Categories: \n",
    "\n",
    "$\\mu$<sub>2</sub> $\\neq$ $\\mu$<sub>134</sub> "
   ]
  },
  {
   "cell_type": "code",
   "execution_count": 158,
   "metadata": {
    "collapsed": false
   },
   "outputs": [
    {
     "name": "stdout",
     "output_type": "stream",
     "text": [
      "Null Hypothesis: m2 = m134\n",
      "p-value, bootstrap approach: {:5f} 0.0\n",
      "The 95% confidence interval is from  -0.0257981584471  to  0.0450181974404 .\n",
      "The margin of error, as computed from the bootstrap replicates, is:  0.0362249881835\n"
     ]
    }
   ],
   "source": [
    "# Combine wind speeds of forecast categories 1, 3, and 4\n",
    "fc134 = (fc1.append(fc3)).append(fc4)\n",
    "\n",
    "# Compute mean wind speed of Forecast Category 1: m2\n",
    "m2 = np.mean(fc2)\n",
    "# Compute mean wind speed of Forecast Category 1, 3, 4: m134\n",
    "m134 = np.mean(fc134)\n",
    "\n",
    "# Compute Empirical Difference in Mean Wind Speeds: empirical_diff_means\n",
    "empirical_diff_means = m2 - m134\n",
    "\n",
    "# Generate Shifted Arrays\n",
    "fc2_shifted = fc2 - m2 + m_all\n",
    "fc134_shifted = fc234 - m134 + m_all\n",
    "\n",
    "# Compute 1000 bootstrap replicates from shifted arrays\n",
    "size = 1000\n",
    "bs_replicates_2 = np.empty(size)\n",
    "bs_replicates_134 = np.empty(size)\n",
    "for i in range(size):\n",
    "    bs_replicates_2[i] = np.mean(np.random.choice(fc2_shifted,len(fc2_shifted)))\n",
    "    bs_replicates_134[i] = np.mean(np.random.choice(fc134_shifted,len(fc134_shifted)))\n",
    "\n",
    "# Compute difference of means: bs_replicates\n",
    "bs_replicates = bs_replicates_2 - bs_replicates_134\n",
    "\n",
    "# Compute and print p-value: p\n",
    "p = np.sum(bs_replicates == empirical_diff_means) / size\n",
    "print('Null Hypothesis: m2 = m134')\n",
    "print('p-value, bootstrap approach: {:5f}', p)\n",
    "\n",
    "# Compute the 95% confidence interval, bootstrap approach\n",
    "conf_int = np.percentile(bs_replicates, [2.5, 97.5])\n",
    "\n",
    "# Compute Margin of Error, Bootstrap Replicate Approach\n",
    "margin_of_error = 1.96 * bs_replicates.std()\n",
    "print('The 95% confidence interval is from ', conf_int[0], ' to ', conf_int[1], '.')\n",
    "print('The margin of error, as computed from the bootstrap replicates, is: ', margin_of_error)"
   ]
  },
  {
   "cell_type": "markdown",
   "metadata": {},
   "source": [
    "##### Comparing Forecast Category 3 with Forecast Category 1, 2, 4"
   ]
  },
  {
   "cell_type": "markdown",
   "metadata": {},
   "source": [
    "Similarly, we could also compare the mean wind speed of Forecast Category 3, $\\mu$<sub>3</sub>, to the remaining Forecast Categories, $\\mu$<sub>124</sub>.\n",
    "\n",
    "$\\mu$<sub>3</sub> = $\\mu$<sub>124</sub>\n",
    "\n",
    "The alternate hypothesis would then be that the mean wind speed of Forecast Category 3 is not equal to the mean wind speed of the other Forecast Categories: \n",
    "\n",
    "$\\mu$<sub>3</sub> $\\neq$ $\\mu$<sub>124</sub>"
   ]
  },
  {
   "cell_type": "code",
   "execution_count": 161,
   "metadata": {
    "collapsed": false
   },
   "outputs": [
    {
     "name": "stdout",
     "output_type": "stream",
     "text": [
      "Null Hypothesis: m3 = m124\n",
      "p-value, bootstrap approach: {:5f} 0.0\n",
      "The 95% confidence interval is from  -0.0372781372494  to  0.0405696912685 .\n",
      "The margin of error, as computed from the bootstrap replicates, is:  0.0386960758443\n"
     ]
    }
   ],
   "source": [
    "# Combine wind speeds of forecast categories 1, 2, and 4\n",
    "fc124 = (fc1.append(fc2)).append(fc4)\n",
    "\n",
    "# Compute mean wind speed of Forecast Category 1: m3\n",
    "m3 = np.mean(fc3)\n",
    "# Compute mean wind speed of Forecast Category 1, 2, 4: m124\n",
    "m124 = np.mean(fc124)\n",
    "\n",
    "# Compute Empirical Difference in Mean Wind Speeds: empirical_diff_means\n",
    "empirical_diff_means = m3 - m124\n",
    "\n",
    "# Generate Shifted Arrays\n",
    "fc3_shifted = fc3 - m3 + m_all\n",
    "fc124_shifted = fc124 - m124 + m_all\n",
    "\n",
    "# Compute 1000 bootstrap replicates from shifted arrays\n",
    "size = 1000\n",
    "bs_replicates_3 = np.empty(size)\n",
    "bs_replicates_124 = np.empty(size)\n",
    "for i in range(size):\n",
    "    bs_replicates_3[i] = np.mean(np.random.choice(fc3_shifted,len(fc3_shifted)))\n",
    "    bs_replicates_124[i] = np.mean(np.random.choice(fc124_shifted,len(fc124_shifted)))\n",
    "\n",
    "# Compute difference of means: bs_replicates\n",
    "bs_replicates = bs_replicates_3 - bs_replicates_124\n",
    "\n",
    "# Compute and print p-value: p\n",
    "p = np.sum(bs_replicates == empirical_diff_means) / size\n",
    "print('Null Hypothesis: m3 = m124')\n",
    "print('p-value, bootstrap approach: {:5f}', p)\n",
    "\n",
    "# Compute the 95% confidence interval, bootstrap approach\n",
    "conf_int = np.percentile(bs_replicates, [2.5, 97.5])\n",
    "\n",
    "# Compute Margin of Error, Bootstrap Replicate Approach\n",
    "margin_of_error = 1.96 * bs_replicates.std()\n",
    "print('The 95% confidence interval is from ', conf_int[0], ' to ', conf_int[1], '.')\n",
    "print('The margin of error, as computed from the bootstrap replicates, is: ', margin_of_error)"
   ]
  },
  {
   "cell_type": "markdown",
   "metadata": {},
   "source": [
    "##### Comparing Forecast Category 4 with Forecast Category 1, 2, 3"
   ]
  },
  {
   "cell_type": "markdown",
   "metadata": {},
   "source": [
    "Final, we can compare the mean wind speed of Forecast Category 4, $\\mu$<sub>4</sub>, to the remaining Forecast Categories, $\\mu$<sub>123</sub>.\n",
    "\n",
    "$\\mu$<sub>4</sub> = $\\mu$<sub>123</sub>\n",
    "\n",
    "The alternate hypothesis would then be that the mean wind speed of Forecast Category 4 is not equal to the mean wind speed of the other Forecast Categories: \n",
    "\n",
    "$\\mu$<sub>4</sub> $\\neq$ $\\mu$<sub>123</sub>"
   ]
  },
  {
   "cell_type": "code",
   "execution_count": 160,
   "metadata": {
    "collapsed": false
   },
   "outputs": [
    {
     "name": "stdout",
     "output_type": "stream",
     "text": [
      "p-value, bootstrap approach: {:5f} 0.0\n",
      "The 95% confidence interval is from  -0.0376638138182  to  0.0382324758983 .\n",
      "The margin of error, as computed from the bootstrap replicates, is:  0.0380381460775\n"
     ]
    }
   ],
   "source": [
    "# Combine wind speeds of Forecast Category 1, 2, 3\n",
    "fc123 = (fc1.append(fc2)).append(fc3)\n",
    "\n",
    "# Compute mean wind speed of Forecast Category 1: m4\n",
    "m4 = np.mean(fc4)\n",
    "# Compute mean wind speed of Forecast Category 1, 2, 3: m123\n",
    "m123 = np.mean(fc123)\n",
    "\n",
    "# Compute Empirical Difference in Mean Wind Speeds: empirical_diff_means\n",
    "empirical_diff_means = m4 - m123\n",
    "\n",
    "# Generate Shifted Arrays\n",
    "fc4_shifted = fc4 - m4 + m_all\n",
    "fc123_shifted = fc123 - m123 + m_all\n",
    "\n",
    "# Compute 1000 bootstrap replicates from shifted arrays\n",
    "size = 1000\n",
    "bs_replicates_4 = np.empty(size)\n",
    "bs_replicates_123 = np.empty(size)\n",
    "for i in range(size):\n",
    "    bs_replicates_4[i] = np.mean(np.random.choice(fc4_shifted,len(fc4_shifted)))\n",
    "    bs_replicates_123[i] = np.mean(np.random.choice(fc123_shifted,len(fc123_shifted)))\n",
    "\n",
    "# Compute difference of means: bs_replicates\n",
    "bs_replicates = bs_replicates_4 - bs_replicates_123\n",
    "\n",
    "# Compute and print p-value: p\n",
    "p = np.sum(bs_replicates == empirical_diff_means) / size\n",
    "print('p-value, bootstrap approach: {:5f}', p)\n",
    "\n",
    "# Compute the 95% confidence interval, bootstrap approach\n",
    "conf_int = np.percentile(bs_replicates, [2.5, 97.5])\n",
    "\n",
    "# Compute Margin of Error, Bootstrap Replicate Approach\n",
    "margin_of_error = 1.96 * bs_replicates.std()\n",
    "print('The 95% confidence interval is from ', conf_int[0], ' to ', conf_int[1], '.')\n",
    "print('The margin of error, as computed from the bootstrap replicates, is: ', margin_of_error)"
   ]
  },
  {
   "cell_type": "markdown",
   "metadata": {},
   "source": [
    "### Conclusion\n",
    "\n",
    "We used bootstrapping techniques to compare the mean wind speed of Forecast Category 1 to that of the other Forecast Categories, and repeated the process for Forecast Category 2, Forecast Category 3 and Forecast Category 4.  All statistics returned p-values of 0, such that we could reject the null hypothesis that the wind speeds of different forecast categories are equal.\n",
    "\n",
    "These preliminary inferential statistics on wind speed data from wind farm 1 indicate that wind speeds of different forecast categories are significantly different from each other. This is as we would expect. If the wind speeds of different forecast categories were the same, this would indicate that there is redundancy in forecasting, and this may be reason to spend less resources on forecasting."
   ]
  }
 ],
 "metadata": {
  "kernelspec": {
   "display_name": "Python 3",
   "language": "python",
   "name": "python3"
  },
  "language_info": {
   "codemirror_mode": {
    "name": "ipython",
    "version": 3
   },
   "file_extension": ".py",
   "mimetype": "text/x-python",
   "name": "python",
   "nbconvert_exporter": "python",
   "pygments_lexer": "ipython3",
   "version": "3.6.0"
  }
 },
 "nbformat": 4,
 "nbformat_minor": 2
}
