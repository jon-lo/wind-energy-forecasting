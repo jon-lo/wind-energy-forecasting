{
 "cells": [
  {
   "cell_type": "markdown",
   "metadata": {},
   "source": [
    "# Wind Energy Forecasting: Inferential Statistics\n",
    "The dataset chosen for this exercise is provided by Institute of Electrical and Electronics Engineers (IEEE), Power & Energy Society, and retrieved through the Kaggle database (https://www.kaggle.com/c/GEF2012-wind-forecasting).  The dataset is a time series dataset with historical power generation, wind speeds and wind directions, for the time period from July 2009 to December 2010. "
   ]
  },
  {
   "cell_type": "markdown",
   "metadata": {},
   "source": [
    "#### Importing Packages and Defining Custom Functions for Data Cleaning"
   ]
  },
  {
   "cell_type": "code",
   "execution_count": 2,
   "metadata": {},
   "outputs": [],
   "source": [
    "# Import packages for data visualization\n",
    "import pandas as pd\n",
    "import numpy as np\n",
    "import matplotlib.pyplot as plt\n",
    "import seaborn as sns"
   ]
  },
  {
   "cell_type": "code",
   "execution_count": 3,
   "metadata": {},
   "outputs": [],
   "source": [
    "# Custom Functions\n",
    "def convert_to_iso(date_col):\n",
    "    \"\"\"\n",
    "    Convert a date, originally in format YYYYMMDDHH,\n",
    "    to ISO 8601 format (https://en.wikipedia.org/wiki/ISO_8601)\n",
    "    \n",
    "    Input: an array of DateTimes in YYYYMMDD format\n",
    "    Output: an array of DateTimes in ISO 8601 format\n",
    "    \"\"\"\n",
    "    date_col = date_col.astype(str)\n",
    "    \n",
    "    # year = YYYY\n",
    "    year = date_col.str[0:4]\n",
    "    # month = MM\n",
    "    month = date_col.str[4:6]\n",
    "    # day = DD\n",
    "    day = date_col.str[6:8]\n",
    "    # hour = HH\n",
    "    hour = date_col.str[8:10]\n",
    "    date_iso8601 = pd.to_datetime(year + '-' + month + '-' + day + 'T' + hour + ':00:00')\n",
    "    \n",
    "    return date_iso8601\n",
    "\n",
    "def add_forecast_cat(wfn):\n",
    "    \"\"\"\n",
    "    Add a forecast category column to the Wind Farm data\n",
    "    Forecast Category 1:  1-12 hour forecasts\n",
    "    Forecast Category 2: 13-24 hour forecasts\n",
    "    Forecast Category 3: 25-36 hour forecasts\n",
    "    Forecast Category 4: 37-48 hour forecasts\n",
    "    \n",
    "    Input: A DataFrame of Wind Farm data with column 'hors' containing hour-ahead forecasts \n",
    "    Output: The same DataFrame with an added column, 'forecast_cat' containing the forecast category\n",
    "    \"\"\"\n",
    "    \n",
    "    wfn['forecast_cat'] = None\n",
    "    wfn.loc[ (wfn['hors'] >= 1) & (wfn['hors'] <= 12), 'forecast_cat'] = 1\n",
    "    wfn.loc[ (wfn['hors'] >= 13) & (wfn['hors'] <= 24), 'forecast_cat'] = 2\n",
    "    wfn.loc[ (wfn['hors'] >= 25) & (wfn['hors'] <= 36), 'forecast_cat'] = 3\n",
    "    wfn.loc[ (wfn['hors'] >= 37) & (wfn['hors'] <= 48), 'forecast_cat'] = 4\n",
    "\n",
    "    return wfn\n",
    "\n",
    "def wfn_by_fc(wfn, forecast_cat):\n",
    "    \"\"\"\n",
    "    Take a windfarm DataFrame and return a boolean sliced \n",
    "    version including data for a given forecast category\n",
    "    \n",
    "    Input: A DataFrame of Wind Farm data\n",
    "    Output: The same DataFrame, but including only data for the requested forecast category\n",
    "    \"\"\"\n",
    "\n",
    "    wfn = wfn.loc[(wfn['forecast_cat'] == forecast_cat)] # row slice\n",
    "    return wfn"
   ]
  },
  {
   "cell_type": "markdown",
   "metadata": {},
   "source": [
    "#### Importing Wind Speed and Direction Data"
   ]
  },
  {
   "cell_type": "code",
   "execution_count": 4,
   "metadata": {},
   "outputs": [],
   "source": [
    "# Import wind speed and wind direction data for each wind farm, \"wind farm data\"\n",
    "wf_dict = {'wf1': pd.read_csv('windforecasts_wf1.csv'), # Wind Farm 1\n",
    "           'wf2': pd.read_csv('windforecasts_wf2.csv'), # Wind Farm 2\n",
    "           'wf3': pd.read_csv('windforecasts_wf3.csv'), # Wind Farm 3\n",
    "           'wf4': pd.read_csv('windforecasts_wf4.csv'), # Wind Farm 4\n",
    "           'wf5': pd.read_csv('windforecasts_wf5.csv'), # Wind Farm 5\n",
    "           'wf6': pd.read_csv('windforecasts_wf6.csv'), # Wind Farm 6\n",
    "           'wf7': pd.read_csv('windforecasts_wf7.csv')} # Wind Farm 7"
   ]
  },
  {
   "cell_type": "markdown",
   "metadata": {},
   "source": [
    "#### Importing Power Data\n",
    "\n",
    "Note: we include only 2009-2010 data because these are the years for which there is complete data (i.e. wind speed, wind direction, and wind power data for every DateTime)."
   ]
  },
  {
   "cell_type": "code",
   "execution_count": 5,
   "metadata": {},
   "outputs": [],
   "source": [
    "# Import wind power data\n",
    "power = pd.read_csv('train.csv')\n",
    "\n",
    "# Convert DateTimes to ISO 8601 format for standardization\n",
    "power['date'] = convert_to_iso(power['date']) \n",
    "\n",
    "# Include only 2009-2010 data for wind power data\n",
    "power = power.loc[ (power['date'] >= '2009-07-01') & \n",
    "                   (power['date'] <=  '2010-12-31')]\n",
    "\n",
    "# Set index for wind power data\n",
    "power.set_index('date', inplace=True)   "
   ]
  },
  {
   "cell_type": "code",
   "execution_count": 6,
   "metadata": {},
   "outputs": [],
   "source": [
    "# Dictionary with wind farm data as keys and wind power data as values\n",
    "wp_lookup = {'wf1':'wp1',\n",
    "             'wf2':'wp2',\n",
    "             'wf3':'wp3',\n",
    "             'wf4':'wp4',\n",
    "             'wf5':'wp5', \n",
    "             'wf6':'wp6',\n",
    "             'wf7':'wp7'}"
   ]
  },
  {
   "cell_type": "markdown",
   "metadata": {},
   "source": [
    "#### Cleaning Wind Speed & Direction Data, Merging with Wind Power Data\n",
    "Note: we include only 2009-2010 data because these are the years for which there is complete data (i.e. wind speed, wind direction, and wind power data for every DateTime)."
   ]
  },
  {
   "cell_type": "code",
   "execution_count": 7,
   "metadata": {},
   "outputs": [],
   "source": [
    "for key, _ in wf_dict.items():\n",
    "    \n",
    "    # Convert date-times to ISO 8601 format for standardization\n",
    "    wf_dict[key]['date'] = convert_to_iso(wf_dict[key]['date'])\n",
    "    # Initialize mod_date column\n",
    "    wf_dict[key]['mod_date'] = (wf_dict[key]['date'] + \n",
    "                                pd.to_timedelta(arg=wf_dict[key]['hors'],unit='h'))\n",
    "    # Initialize forecast_cat column\n",
    "    wf_dict[key] = add_forecast_cat(wf_dict[key])\n",
    "\n",
    "    # Include only 2009-2010 data for wind speed/direction data\n",
    "    wf_dict[key] = wf_dict[key].loc[(wf_dict[key]['mod_date'] >= '2009-07-01') & \n",
    "                                    (wf_dict[key]['mod_date'] <= '2010-12-31')]\n",
    "    # Set Index column\n",
    "    wf_dict[key].set_index('mod_date',inplace=True)\n",
    "    \n",
    "    # Merge wind speed/direction data with wind power data\n",
    "    wf_dict[key] = wf_dict[key].merge(power[[wp_lookup[key]]], \n",
    "                                      how='left',\n",
    "                                      left_index=True,       \n",
    "                                      right_index=True)"
   ]
  },
  {
   "cell_type": "code",
   "execution_count": 8,
   "metadata": {
    "scrolled": true
   },
   "outputs": [
    {
     "name": "stdout",
     "output_type": "stream",
     "text": [
      "                                   date  hors     u     v    ws      wd  \\\n",
      "2009-07-01 01:00:00 2009-07-01 00:00:00     1  2.34 -0.79  2.47  108.68   \n",
      "2009-07-01 02:00:00 2009-07-01 00:00:00     2  2.18 -0.99  2.40  114.31   \n",
      "2009-07-01 03:00:00 2009-07-01 00:00:00     3  2.20 -1.21  2.51  118.71   \n",
      "2009-07-01 04:00:00 2009-07-01 00:00:00     4  2.35 -1.40  2.73  120.86   \n",
      "2009-07-01 05:00:00 2009-07-01 00:00:00     5  2.53 -1.47  2.93  120.13   \n",
      "2009-07-01 06:00:00 2009-07-01 00:00:00     6  2.66 -1.29  2.96  115.79   \n",
      "2009-07-01 07:00:00 2009-07-01 00:00:00     7  2.69 -0.81  2.81  106.71   \n",
      "2009-07-01 08:00:00 2009-07-01 00:00:00     8  2.72 -0.26  2.73   95.39   \n",
      "2009-07-01 09:00:00 2009-07-01 00:00:00     9  2.87  0.08  2.87   88.50   \n",
      "2009-07-01 10:00:00 2009-07-01 00:00:00    10  3.23 -0.01  3.23   90.19   \n",
      "2009-07-01 11:00:00 2009-07-01 00:00:00    11  3.65 -0.33  3.66   95.15   \n",
      "2009-07-01 12:00:00 2009-07-01 00:00:00    12  3.89 -0.60  3.94   98.71   \n",
      "2009-07-01 13:00:00 2009-07-01 00:00:00    13  3.82 -0.59  3.86   98.85   \n",
      "2009-07-01 13:00:00 2009-07-01 12:00:00     1  2.77 -0.65  2.85  103.17   \n",
      "2009-07-01 14:00:00 2009-07-01 00:00:00    14  3.54 -0.35  3.56   95.62   \n",
      "\n",
      "                     forecast_cat    wp1  \n",
      "2009-07-01 01:00:00             1  0.085  \n",
      "2009-07-01 02:00:00             1  0.020  \n",
      "2009-07-01 03:00:00             1  0.060  \n",
      "2009-07-01 04:00:00             1  0.045  \n",
      "2009-07-01 05:00:00             1  0.035  \n",
      "2009-07-01 06:00:00             1  0.005  \n",
      "2009-07-01 07:00:00             1  0.000  \n",
      "2009-07-01 08:00:00             1  0.000  \n",
      "2009-07-01 09:00:00             1  0.010  \n",
      "2009-07-01 10:00:00             1  0.025  \n",
      "2009-07-01 11:00:00             1  0.030  \n",
      "2009-07-01 12:00:00             1  0.010  \n",
      "2009-07-01 13:00:00             2  0.000  \n",
      "2009-07-01 13:00:00             1  0.000  \n",
      "2009-07-01 14:00:00             2  0.010  \n"
     ]
    }
   ],
   "source": [
    "# Explore wind farm data\n",
    "print(wf_dict['wf1'].head(15))"
   ]
  },
  {
   "cell_type": "markdown",
   "metadata": {},
   "source": [
    "NOTE: All data is unitless.\n",
    "**Description:** Index is dates in ISO-8601 DateTime format. 'date' column data is unformatted DateTime data. 'hors' column data is unformatted hour data, representing the number of hours-ahead being forecasted at the corresponding DateTime. 'u' is magnitude of x-axis wind speed vector. 'v' is magnitude of y-axis wind speed vector. 'ws' is magnitude of wind speed. 'wd' is angle of wind direction. 'forecast_cat' is forecast category, ranging from 1-4.\n",
    "'wp(n)' column represents wind power data where n=1...7 represent each of the seven wind farms."
   ]
  },
  {
   "cell_type": "markdown",
   "metadata": {},
   "source": [
    "### Inferential Statistics\n",
    "\n",
    "There are four forecast categories-- Forecast Category 1: 1-12 hours ahead. Forecast Category 2: 13-24 hours ahead. Forecast Category 3: 25-36 hours ahead. Forecast Category 4: 37-48 hours ahead.\n",
    "\n",
    "We are interested to see if the wind speeds of one forecast category different from the wind speeds of other forecast categories.\n",
    "\n",
    "\n",
    "\n",
    "As an example, we could take a look at Wind Farm 1, and compare the mean wind speed of Forecast Category 1 ($\\mu$<sub>1</sub>) to the mean wind speed of Forecast Category 2-4 ($\\mu$<sub>234</sub>). The null hypothesis in this case would be that the mean wind speed of Forecast Category 1 is equal to the mean wind speed of Forecast Category 2-4: \n",
    "\n",
    "$\\mu$<sub>1</sub> = $\\mu$<sub>234</sub>\n",
    "\n",
    "The alternate hypothesis would then be that the mean wind speed of Forecast Category 1 is not equal to the mean wind speed of the other Forecast Categories: \n",
    "\n",
    "$\\mu$<sub>1</sub> $\\neq$ $\\mu$<sub>234</sub>\n",
    "\n",
    "Similarly, we could repeat the comparison for:\n",
    "\n",
    "$\\mu$<sub>2</sub> = $\\mu$<sub>34</sub>, comparing forecast category 2 to longer forecast categories (3, 4)\n",
    "\n",
    "$\\mu$<sub>3</sub> = $\\mu$<sub>4</sub>, comparing forecast category 3 to longer forecast categories (4)\n",
    "\n",
    "$\\mu$<sub>4</sub> = $\\mu$<sub>123</sub>, comparing forecast category 4 to shorter forecast categories (1, 2, 3)\n",
    "\n",
    "$\\mu$<sub>3</sub> = $\\mu$<sub>12</sub>, (comparing forecast category 3 to shorter forecast categories (1, 2)\n",
    "\n",
    "$\\mu$<sub>2</sub> = $\\mu$<sub>1</sub>, (comparing forecast category 2 to shorter forecast category (1)"
   ]
  },
  {
   "cell_type": "code",
   "execution_count": 10,
   "metadata": {},
   "outputs": [
    {
     "name": "stdout",
     "output_type": "stream",
     "text": [
      "                    wf1       wf2       wf3       wf4       wf5       wf6  \\\n",
      "fc_comparison                                                               \n",
      "1v234          1.798917  2.972729  2.087631  2.845424  2.910819  2.321831   \n",
      "2v34           0.625090  1.699720  0.458644  1.400497  0.789813  0.058644   \n",
      "3v4            0.136969  0.310422  0.448495  0.896691  0.410644  0.639480   \n",
      "4v123         -1.012907 -2.076900 -1.284078 -2.351041 -1.683877 -1.330527   \n",
      "3v12          -1.190827 -2.378989 -1.027465 -1.773526 -1.667149 -0.776293   \n",
      "2v1           -1.116845 -1.463473 -1.434667 -1.519789 -1.932011 -1.859611   \n",
      "\n",
      "                    wf7     avg_z  \n",
      "fc_comparison                      \n",
      "1v234          2.015196  2.421793  \n",
      "2v34          -0.110330  0.703154  \n",
      "3v4            0.628765  0.495924  \n",
      "4v123         -1.138319 -1.553950  \n",
      "3v12          -0.521537 -1.333684  \n",
      "2v1           -1.706717 -1.576159  \n"
     ]
    }
   ],
   "source": [
    "# Dictionary to hold Z-scores for each wind farm\n",
    "z_scores = {'wf1':[], \n",
    "            'wf2':[],\n",
    "            'wf3':[],\n",
    "            'wf4':[],\n",
    "            'wf5':[],\n",
    "            'wf6':[],\n",
    "            'wf7':[]}\n",
    "\n",
    "for key, _ in wf_dict.items():\n",
    "    wf = wf_dict[key]\n",
    "    fc_scores = []  # Empty list of Z Scores\n",
    "    \n",
    "    # Compare shorter forecasts to longer forecasts\n",
    "    for i in [1,2,3]:\n",
    "            fc_single = wf.loc[(wf['forecast_cat'] == i)]['ws']\n",
    "            fc_others = wf.loc[(wf['forecast_cat'] > i)]['ws']\n",
    "            # Sample mean wind speed of single Forecast Category: x_single\n",
    "            x_single = np.mean(fc_single) \n",
    "            # Sample mean wind speed of all other Forecast Categories: x_others\n",
    "            x_others = np.mean(fc_others)\n",
    "            # Sample standard deviation wind speed of single Forecast Category: s_single\n",
    "            s_single = np.std(fc_single)\n",
    "            # Sample standard deviation wind speed of all other Forecast Categories: s_others\n",
    "            s_others = np.std(fc_others)\n",
    "            # Sample size of single Forecast Category: n_single\n",
    "            n_single = len(fc_single)\n",
    "            # Sample size of all other Forecast Categories: n_others\n",
    "            n_others = len(fc_others)\n",
    "            # Compute Z score\n",
    "            z = (x_single - x_others) / np.sqrt((s_single**2)/n_single + (s_others**2)/n_others)\n",
    "            # Add Z score to list of scores\n",
    "            fc_scores.append(z)\n",
    "            \n",
    "    # Compare longer forecasts to shorter forecasts\n",
    "    for i in [4,3,2]:\n",
    "            fc_single = wf.loc[(wf['forecast_cat'] == i)]['ws']\n",
    "            fc_others = wf.loc[(wf['forecast_cat'] < i)]['ws'] \n",
    "            # Sample mean wind speed of single Forecast Category: x_single\n",
    "            x_single = np.mean(fc_single) \n",
    "            # Sample mean wind speed of all other Forecast Categories: x_others\n",
    "            x_others = np.mean(fc_others)\n",
    "            # Sample standard deviation wind speed of single Forecast Category: s_single\n",
    "            s_single = np.std(fc_single)\n",
    "            # Sample standard deviation wind speed of all other Forecast Categories: s_others\n",
    "            s_others = np.std(fc_others)\n",
    "            # Sample size of single Forecast Category: n_single\n",
    "            n_single = len(fc_single)\n",
    "            # Sample size of all other Forecast Categories: n_others\n",
    "            n_others = len(fc_others)\n",
    "            # Compute Z score\n",
    "            z = (x_single - x_others) / np.sqrt((s_single**2)/n_single + (s_others**2)/n_others)\n",
    "            # Add Z score to list of scores\n",
    "            fc_scores.append(z)\n",
    "    z_scores[key] = fc_scores\n",
    "\n",
    "z_scores = pd.DataFrame(z_scores) # Convert dictionary to DataFrame\n",
    "z_scores['fc_comparison'] = ['1v234', '2v34', '3v4', '4v123', '3v12', '2v1']  # List of labels for forecast comparisons \n",
    "z_scores.set_index('fc_comparison', inplace=True) # Set indexes to represent forecast comparison\n",
    "z_scores['avg_z'] = z_scores.mean(axis=1)\n",
    "\n",
    "print(z_scores)"
   ]
  },
  {
   "cell_type": "markdown",
   "metadata": {},
   "source": [
    "### Conclusion\n",
    "\n",
    "Comparing forecast categories to each other, it was found that Forecast Category 1 (1-12hrs ahead) tended to be significantly different from longer Forecast Categories (13-48hrs ahead), with 95% confidence. Z-scores for this comparison were in excess of 1.96 (95% confidence threshold) for all wind farms except Wind Farm 1, which had a Z-score of 1.798917, which still corresponds to 92.8% confidence.\n",
    "\n",
    "Forecast caegories 2, 3, 4 were found to be not significantly different from each other. \n",
    "\n",
    "Another conclusion is that Z-scores seem to vary across all wind farms, with no apparent pattern. This may be due to geological features not accounted for in the data set."
   ]
  }
 ],
 "metadata": {
  "kernelspec": {
   "display_name": "Python 3",
   "language": "python",
   "name": "python3"
  },
  "language_info": {
   "codemirror_mode": {
    "name": "ipython",
    "version": 3
   },
   "file_extension": ".py",
   "mimetype": "text/x-python",
   "name": "python",
   "nbconvert_exporter": "python",
   "pygments_lexer": "ipython3",
   "version": "3.6.5"
  }
 },
 "nbformat": 4,
 "nbformat_minor": 2
}
